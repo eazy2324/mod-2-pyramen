{
 "cells": [
  {
   "cell_type": "code",
   "execution_count": 1,
   "id": "8231c6a1-0cd5-46ea-a337-bde649d63dba",
   "metadata": {},
   "outputs": [],
   "source": [
    "import pandas as pd\n",
    "from pathlib import Path"
   ]
  },
  {
   "cell_type": "code",
   "execution_count": 2,
   "id": "9372b5c8-d829-4232-8f3f-2ddaf192552c",
   "metadata": {},
   "outputs": [],
   "source": [
    "csvpath = Path(\"budget_data.csv\")"
   ]
  },
  {
   "cell_type": "code",
   "execution_count": 4,
   "id": "2e1b1a62-44aa-43bd-a942-f859336e9e23",
   "metadata": {},
   "outputs": [
    {
     "data": {
      "text/html": [
       "<div>\n",
       "<style scoped>\n",
       "    .dataframe tbody tr th:only-of-type {\n",
       "        vertical-align: middle;\n",
       "    }\n",
       "\n",
       "    .dataframe tbody tr th {\n",
       "        vertical-align: top;\n",
       "    }\n",
       "\n",
       "    .dataframe thead th {\n",
       "        text-align: right;\n",
       "    }\n",
       "</style>\n",
       "<table border=\"1\" class=\"dataframe\">\n",
       "  <thead>\n",
       "    <tr style=\"text-align: right;\">\n",
       "      <th></th>\n",
       "      <th>Date</th>\n",
       "      <th>Profit/Losses</th>\n",
       "    </tr>\n",
       "  </thead>\n",
       "  <tbody>\n",
       "    <tr>\n",
       "      <th>0</th>\n",
       "      <td>Jan-2010</td>\n",
       "      <td>867884</td>\n",
       "    </tr>\n",
       "    <tr>\n",
       "      <th>1</th>\n",
       "      <td>Feb-2010</td>\n",
       "      <td>984655</td>\n",
       "    </tr>\n",
       "    <tr>\n",
       "      <th>2</th>\n",
       "      <td>Mar-2010</td>\n",
       "      <td>322013</td>\n",
       "    </tr>\n",
       "    <tr>\n",
       "      <th>3</th>\n",
       "      <td>Apr-2010</td>\n",
       "      <td>-69417</td>\n",
       "    </tr>\n",
       "    <tr>\n",
       "      <th>4</th>\n",
       "      <td>May-2010</td>\n",
       "      <td>310503</td>\n",
       "    </tr>\n",
       "  </tbody>\n",
       "</table>\n",
       "</div>"
      ],
      "text/plain": [
       "       Date  Profit/Losses\n",
       "0  Jan-2010         867884\n",
       "1  Feb-2010         984655\n",
       "2  Mar-2010         322013\n",
       "3  Apr-2010         -69417\n",
       "4  May-2010         310503"
      ]
     },
     "execution_count": 4,
     "metadata": {},
     "output_type": "execute_result"
    }
   ],
   "source": [
    "data_csv = pd.read_csv(csvpath)\n",
    "data_csv.head()"
   ]
  },
  {
   "cell_type": "code",
   "execution_count": 5,
   "id": "fc4e8255-1d2e-4b6e-af68-93a24a9f9253",
   "metadata": {},
   "outputs": [
    {
     "data": {
      "text/plain": [
       "86"
      ]
     },
     "execution_count": 5,
     "metadata": {},
     "output_type": "execute_result"
    }
   ],
   "source": [
    "data_csv[\"Profit/Losses\"].count()"
   ]
  },
  {
   "cell_type": "code",
   "execution_count": 6,
   "id": "8cb2b401-9663-4c8e-b3d7-bb17eb363fb5",
   "metadata": {},
   "outputs": [
    {
     "data": {
      "text/plain": [
       "86"
      ]
     },
     "execution_count": 6,
     "metadata": {},
     "output_type": "execute_result"
    }
   ],
   "source": [
    "Total_Months= data_csv[\"Profit/Losses\"].count()\n",
    "Total_Months"
   ]
  },
  {
   "cell_type": "code",
   "execution_count": 7,
   "id": "bdf19051-b263-42bf-ba41-7f6b1c62b6ef",
   "metadata": {},
   "outputs": [
    {
     "data": {
      "text/plain": [
       "38382578"
      ]
     },
     "execution_count": 7,
     "metadata": {},
     "output_type": "execute_result"
    }
   ],
   "source": [
    "data_csv[\"Profit/Losses\"].sum()"
   ]
  },
  {
   "cell_type": "code",
   "execution_count": 8,
   "id": "592f1df9-4b49-4580-bf3a-f79e29ed9b4b",
   "metadata": {},
   "outputs": [],
   "source": [
    "NetPnL = data_csv[\"Profit/Losses\"].sum()"
   ]
  },
  {
   "cell_type": "code",
   "execution_count": 9,
   "id": "17860fbf-0560-4609-b71c-8aaf75369f76",
   "metadata": {},
   "outputs": [
    {
     "data": {
      "text/plain": [
       "446309.0465116279"
      ]
     },
     "execution_count": 9,
     "metadata": {},
     "output_type": "execute_result"
    }
   ],
   "source": [
    "data_csv[\"Profit/Losses\"].mean()"
   ]
  },
  {
   "cell_type": "code",
   "execution_count": 10,
   "id": "6310ebd2-00cc-4ba4-8877-e8d8155233ef",
   "metadata": {},
   "outputs": [
    {
     "data": {
      "text/html": [
       "<div>\n",
       "<style scoped>\n",
       "    .dataframe tbody tr th:only-of-type {\n",
       "        vertical-align: middle;\n",
       "    }\n",
       "\n",
       "    .dataframe tbody tr th {\n",
       "        vertical-align: top;\n",
       "    }\n",
       "\n",
       "    .dataframe thead th {\n",
       "        text-align: right;\n",
       "    }\n",
       "</style>\n",
       "<table border=\"1\" class=\"dataframe\">\n",
       "  <thead>\n",
       "    <tr style=\"text-align: right;\">\n",
       "      <th></th>\n",
       "      <th>Date</th>\n",
       "      <th>Profit/Losses</th>\n",
       "      <th>pnl_changes</th>\n",
       "    </tr>\n",
       "  </thead>\n",
       "  <tbody>\n",
       "    <tr>\n",
       "      <th>0</th>\n",
       "      <td>Jan-2010</td>\n",
       "      <td>867884</td>\n",
       "      <td>NaN</td>\n",
       "    </tr>\n",
       "    <tr>\n",
       "      <th>1</th>\n",
       "      <td>Feb-2010</td>\n",
       "      <td>984655</td>\n",
       "      <td>116771.0</td>\n",
       "    </tr>\n",
       "    <tr>\n",
       "      <th>2</th>\n",
       "      <td>Mar-2010</td>\n",
       "      <td>322013</td>\n",
       "      <td>-662642.0</td>\n",
       "    </tr>\n",
       "    <tr>\n",
       "      <th>3</th>\n",
       "      <td>Apr-2010</td>\n",
       "      <td>-69417</td>\n",
       "      <td>-391430.0</td>\n",
       "    </tr>\n",
       "    <tr>\n",
       "      <th>4</th>\n",
       "      <td>May-2010</td>\n",
       "      <td>310503</td>\n",
       "      <td>379920.0</td>\n",
       "    </tr>\n",
       "    <tr>\n",
       "      <th>...</th>\n",
       "      <td>...</td>\n",
       "      <td>...</td>\n",
       "      <td>...</td>\n",
       "    </tr>\n",
       "    <tr>\n",
       "      <th>81</th>\n",
       "      <td>Oct-2016</td>\n",
       "      <td>102685</td>\n",
       "      <td>-665765.0</td>\n",
       "    </tr>\n",
       "    <tr>\n",
       "      <th>82</th>\n",
       "      <td>Nov-2016</td>\n",
       "      <td>795914</td>\n",
       "      <td>693229.0</td>\n",
       "    </tr>\n",
       "    <tr>\n",
       "      <th>83</th>\n",
       "      <td>Dec-2016</td>\n",
       "      <td>60988</td>\n",
       "      <td>-734926.0</td>\n",
       "    </tr>\n",
       "    <tr>\n",
       "      <th>84</th>\n",
       "      <td>Jan-2017</td>\n",
       "      <td>138230</td>\n",
       "      <td>77242.0</td>\n",
       "    </tr>\n",
       "    <tr>\n",
       "      <th>85</th>\n",
       "      <td>Feb-2017</td>\n",
       "      <td>671099</td>\n",
       "      <td>532869.0</td>\n",
       "    </tr>\n",
       "  </tbody>\n",
       "</table>\n",
       "<p>86 rows × 3 columns</p>\n",
       "</div>"
      ],
      "text/plain": [
       "        Date  Profit/Losses  pnl_changes\n",
       "0   Jan-2010         867884          NaN\n",
       "1   Feb-2010         984655     116771.0\n",
       "2   Mar-2010         322013    -662642.0\n",
       "3   Apr-2010         -69417    -391430.0\n",
       "4   May-2010         310503     379920.0\n",
       "..       ...            ...          ...\n",
       "81  Oct-2016         102685    -665765.0\n",
       "82  Nov-2016         795914     693229.0\n",
       "83  Dec-2016          60988    -734926.0\n",
       "84  Jan-2017         138230      77242.0\n",
       "85  Feb-2017         671099     532869.0\n",
       "\n",
       "[86 rows x 3 columns]"
      ]
     },
     "execution_count": 10,
     "metadata": {},
     "output_type": "execute_result"
    }
   ],
   "source": [
    "data_csv[\"Profit/Losses\"].sum()\n",
    "data_csv['pnl_changes']=data_csv[\"Profit/Losses\"]- data_csv[\"Profit/Losses\"].shift()\n",
    "data_csv"
   ]
  },
  {
   "cell_type": "code",
   "execution_count": 11,
   "id": "08d9bef5-f3b1-41c0-a4ae-ccdd0867daa1",
   "metadata": {},
   "outputs": [
    {
     "data": {
      "text/plain": [
       "-2315.1176470588234"
      ]
     },
     "execution_count": 11,
     "metadata": {},
     "output_type": "execute_result"
    }
   ],
   "source": [
    "Mean_PL= data_csv[\"pnl_changes\"].mean()\n",
    "Mean_PL"
   ]
  },
  {
   "cell_type": "code",
   "execution_count": 12,
   "id": "8c7580b0-b03f-4b2e-a136-e47d09a3db19",
   "metadata": {},
   "outputs": [
    {
     "data": {
      "text/plain": [
       "1926159.0"
      ]
     },
     "execution_count": 12,
     "metadata": {},
     "output_type": "execute_result"
    }
   ],
   "source": [
    "max_difference= data_csv[\"pnl_changes\"].max()\n",
    "max_difference"
   ]
  },
  {
   "cell_type": "code",
   "execution_count": 13,
   "id": "948e2247-a1ba-4759-b8bd-63176136b69b",
   "metadata": {},
   "outputs": [
    {
     "data": {
      "text/plain": [
       "25    Feb-2012\n",
       "Name: Date, dtype: object"
      ]
     },
     "execution_count": 13,
     "metadata": {},
     "output_type": "execute_result"
    }
   ],
   "source": [
    "max_date= data_csv.loc[data_csv[\"pnl_changes\"] == data_csv[\"pnl_changes\"].max(),'Date']\n",
    "max_date"
   ]
  },
  {
   "cell_type": "code",
   "execution_count": 14,
   "id": "7d6309e9-3474-446a-85fc-57899ae901f7",
   "metadata": {},
   "outputs": [
    {
     "data": {
      "text/plain": [
       "-2196167.0"
      ]
     },
     "execution_count": 14,
     "metadata": {},
     "output_type": "execute_result"
    }
   ],
   "source": [
    "min_difference= data_csv[\"pnl_changes\"].min()\n",
    "min_difference"
   ]
  },
  {
   "cell_type": "code",
   "execution_count": 15,
   "id": "3f1e07ea-4846-43b1-ae23-c2250b0cea1b",
   "metadata": {},
   "outputs": [
    {
     "data": {
      "text/plain": [
       "44    Sep-2013\n",
       "Name: Date, dtype: object"
      ]
     },
     "execution_count": 15,
     "metadata": {},
     "output_type": "execute_result"
    }
   ],
   "source": [
    "min_date= data_csv.loc[data_csv[\"pnl_changes\"] == data_csv[\"pnl_changes\"].min(),'Date']\n",
    "min_date"
   ]
  },
  {
   "cell_type": "code",
   "execution_count": 16,
   "id": "9f911a11-82a5-442c-a1f7-694c1526e394",
   "metadata": {},
   "outputs": [
    {
     "name": "stdout",
     "output_type": "stream",
     "text": [
      "Financial Analysis\n",
      "-----------------\n",
      "Total Months: 86\n",
      "Total Profits: $38382578\n",
      "Average Change: $-2315.1176470588234\n",
      "Greatest Increase in Profits: Feb-2012 $(1926159.0)\n",
      "Greatest Decrease in Profits: Sep-2013 $(-2196167.0)\n"
     ]
    }
   ],
   "source": [
    "print('Financial Analysis')\n",
    "print('-----------------')\n",
    "print(f'Total Months: {Total_Months}')\n",
    "print(f'Total Profits: ${NetPnL}')\n",
    "print(f'Average Change: ${Mean_PL}')\n",
    "print(f'Greatest Increase in Profits: Feb-2012 $({max_difference})')\n",
    "print(f'Greatest Decrease in Profits: Sep-2013 $({min_difference})')"
   ]
  },
  {
   "cell_type": "code",
   "execution_count": 17,
   "id": "749266dc-1666-4604-b5b9-a44d116b63b6",
   "metadata": {},
   "outputs": [],
   "source": [
    "output_path = Path('output.csv')"
   ]
  },
  {
   "cell_type": "code",
   "execution_count": 18,
   "id": "8f65d8cf-2ed8-4b5e-8fb6-842d47c27a18",
   "metadata": {},
   "outputs": [],
   "source": [
    "with open('financial_analysis.txt', 'w') as text:\n",
    "    text.write(\"----------------------------------------------------------\\n\")\n",
    "    text.write(\"  Financial Analysis\"+ \"\\n\")\n",
    "    text.write(\"----------------------------------------------------------\\n\\n\")\n",
    "    text.write(\"    Total Months: \" + str(Total_Months) + \"\\n\")\n",
    "    text.write(\"    Total Profits: \" + \"$\" + str(NetPnL) +\"\\n\")\n",
    "    text.write(\"    Average Change: \" + '$' + str(int(Mean_PL)) + \"\\n\")\n",
    "    text.write(\"    Greatest Increase in Profits: \" + str(max_date) + \" ($\" + str(max_difference) + \")\\n\")\n",
    "    text.write(\"    Greatest Decrease in Profits: \" + str(min_date) + \" ($\" + str(min_difference) + \")\\n\")\n",
    "    text.write(\"----------------------------------------------------------\\n\")"
   ]
  },
  {
   "cell_type": "code",
   "execution_count": null,
   "id": "bd7a3c1b-c174-4b2b-9b3b-9b0e23d11ccc",
   "metadata": {},
   "outputs": [],
   "source": []
  }
 ],
 "metadata": {
  "kernelspec": {
   "display_name": "Python 3 (ipykernel)",
   "language": "python",
   "name": "python3"
  },
  "language_info": {
   "codemirror_mode": {
    "name": "ipython",
    "version": 3
   },
   "file_extension": ".py",
   "mimetype": "text/x-python",
   "name": "python",
   "nbconvert_exporter": "python",
   "pygments_lexer": "ipython3",
   "version": "3.10.9"
  }
 },
 "nbformat": 4,
 "nbformat_minor": 5
}
